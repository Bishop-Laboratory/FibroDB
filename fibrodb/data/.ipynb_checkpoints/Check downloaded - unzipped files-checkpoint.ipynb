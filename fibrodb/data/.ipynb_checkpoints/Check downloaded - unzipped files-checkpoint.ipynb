{
 "cells": [
  {
   "cell_type": "markdown",
   "metadata": {},
   "source": [
    "Checking columns names in all downloaded files by iterating over all files and folders and downloaded and unzipped data, loading text-files into pandas DataFrame and extracting all columns per file. Check performed in order to ensure integrity of data in regards to created database."
   ]
  },
  {
   "cell_type": "code",
   "execution_count": 1,
   "metadata": {},
   "outputs": [],
   "source": [
    "import pandas as pd\n",
    "import os\n",
    "import re"
   ]
  },
  {
   "cell_type": "code",
   "execution_count": 6,
   "metadata": {},
   "outputs": [],
   "source": [
    "folder = 'GSE140523-Human-FB'\n",
    "file = 'GSE140523-GRCh38_103-TPM-Annot.txt'\n",
    "df = pd.read_csv(f'Fibroblast-Fibrosis{os.sep}{folder}{os.sep}{file}', sep='\\t', index_col=False)"
   ]
  },
  {
   "cell_type": "code",
   "execution_count": 7,
   "metadata": {},
   "outputs": [
    {
     "data": {
      "text/html": [
       "<div>\n",
       "<style scoped>\n",
       "    .dataframe tbody tr th:only-of-type {\n",
       "        vertical-align: middle;\n",
       "    }\n",
       "\n",
       "    .dataframe tbody tr th {\n",
       "        vertical-align: top;\n",
       "    }\n",
       "\n",
       "    .dataframe thead th {\n",
       "        text-align: right;\n",
       "    }\n",
       "</style>\n",
       "<table border=\"1\" class=\"dataframe\">\n",
       "  <thead>\n",
       "    <tr style=\"text-align: right;\">\n",
       "      <th></th>\n",
       "      <th>Ensembl Gene ID</th>\n",
       "      <th>Gene Symbol</th>\n",
       "      <th>Biotype</th>\n",
       "      <th>Abdomen</th>\n",
       "      <th>Abdomen.1</th>\n",
       "      <th>Abdomen.2</th>\n",
       "      <th>Abdomen.3</th>\n",
       "      <th>Abdomen.4</th>\n",
       "      <th>Gingiva</th>\n",
       "      <th>Gingiva.1</th>\n",
       "      <th>...</th>\n",
       "      <th>Trachea</th>\n",
       "      <th>Trachea.1</th>\n",
       "      <th>Trachea.2</th>\n",
       "      <th>Trachea.3</th>\n",
       "      <th>Trachea.4</th>\n",
       "      <th>Vocal_Fold</th>\n",
       "      <th>Vocal_Fold.1</th>\n",
       "      <th>Vocal_Fold.2</th>\n",
       "      <th>Vocal_Fold.3</th>\n",
       "      <th>Vocal_Fold.4</th>\n",
       "    </tr>\n",
       "  </thead>\n",
       "  <tbody>\n",
       "    <tr>\n",
       "      <th>0</th>\n",
       "      <td>ENSG00000223972</td>\n",
       "      <td>DDX11L1</td>\n",
       "      <td>transcribed_unprocessed_pseudogene</td>\n",
       "      <td>ENSG00000223972</td>\n",
       "      <td>0.000000</td>\n",
       "      <td>0.000000</td>\n",
       "      <td>0.0</td>\n",
       "      <td>0.0</td>\n",
       "      <td>0.0</td>\n",
       "      <td>0.0</td>\n",
       "      <td>...</td>\n",
       "      <td>0.000000</td>\n",
       "      <td>0.000000</td>\n",
       "      <td>0.0000</td>\n",
       "      <td>0.0</td>\n",
       "      <td>0.0</td>\n",
       "      <td>0.000000</td>\n",
       "      <td>0.0</td>\n",
       "      <td>0.000000</td>\n",
       "      <td>0.000000</td>\n",
       "      <td>0.000000</td>\n",
       "    </tr>\n",
       "    <tr>\n",
       "      <th>1</th>\n",
       "      <td>ENSG00000227232</td>\n",
       "      <td>WASH7P</td>\n",
       "      <td>unprocessed_pseudogene</td>\n",
       "      <td>ENSG00000227232</td>\n",
       "      <td>0.000000</td>\n",
       "      <td>0.000000</td>\n",
       "      <td>0.0</td>\n",
       "      <td>0.0</td>\n",
       "      <td>0.0</td>\n",
       "      <td>0.0</td>\n",
       "      <td>...</td>\n",
       "      <td>0.000000</td>\n",
       "      <td>0.000000</td>\n",
       "      <td>0.0000</td>\n",
       "      <td>0.0</td>\n",
       "      <td>0.0</td>\n",
       "      <td>0.000000</td>\n",
       "      <td>0.0</td>\n",
       "      <td>0.000000</td>\n",
       "      <td>0.029724</td>\n",
       "      <td>0.000000</td>\n",
       "    </tr>\n",
       "    <tr>\n",
       "      <th>2</th>\n",
       "      <td>ENSG00000278267</td>\n",
       "      <td>MIR6859-1</td>\n",
       "      <td>miRNA</td>\n",
       "      <td>ENSG00000278267</td>\n",
       "      <td>15.047694</td>\n",
       "      <td>25.837361</td>\n",
       "      <td>0.0</td>\n",
       "      <td>0.0</td>\n",
       "      <td>0.0</td>\n",
       "      <td>0.0</td>\n",
       "      <td>...</td>\n",
       "      <td>7.967426</td>\n",
       "      <td>13.002281</td>\n",
       "      <td>18.4819</td>\n",
       "      <td>0.0</td>\n",
       "      <td>0.0</td>\n",
       "      <td>6.838126</td>\n",
       "      <td>0.0</td>\n",
       "      <td>13.263572</td>\n",
       "      <td>0.000000</td>\n",
       "      <td>11.894733</td>\n",
       "    </tr>\n",
       "    <tr>\n",
       "      <th>3</th>\n",
       "      <td>ENSG00000243485</td>\n",
       "      <td>MIR1302-2HG</td>\n",
       "      <td>lncRNA</td>\n",
       "      <td>ENSG00000243485</td>\n",
       "      <td>0.000000</td>\n",
       "      <td>0.000000</td>\n",
       "      <td>0.0</td>\n",
       "      <td>0.0</td>\n",
       "      <td>0.0</td>\n",
       "      <td>0.0</td>\n",
       "      <td>...</td>\n",
       "      <td>0.000000</td>\n",
       "      <td>0.000000</td>\n",
       "      <td>0.0000</td>\n",
       "      <td>0.0</td>\n",
       "      <td>0.0</td>\n",
       "      <td>0.000000</td>\n",
       "      <td>0.0</td>\n",
       "      <td>0.000000</td>\n",
       "      <td>0.000000</td>\n",
       "      <td>0.000000</td>\n",
       "    </tr>\n",
       "    <tr>\n",
       "      <th>4</th>\n",
       "      <td>ENSG00000284332</td>\n",
       "      <td>MIR1302-2</td>\n",
       "      <td>miRNA</td>\n",
       "      <td>ENSG00000284332</td>\n",
       "      <td>0.000000</td>\n",
       "      <td>0.000000</td>\n",
       "      <td>0.0</td>\n",
       "      <td>0.0</td>\n",
       "      <td>0.0</td>\n",
       "      <td>0.0</td>\n",
       "      <td>...</td>\n",
       "      <td>0.000000</td>\n",
       "      <td>0.000000</td>\n",
       "      <td>0.0000</td>\n",
       "      <td>0.0</td>\n",
       "      <td>0.0</td>\n",
       "      <td>0.000000</td>\n",
       "      <td>0.0</td>\n",
       "      <td>0.000000</td>\n",
       "      <td>0.000000</td>\n",
       "      <td>0.000000</td>\n",
       "    </tr>\n",
       "  </tbody>\n",
       "</table>\n",
       "<p>5 rows × 37 columns</p>\n",
       "</div>"
      ],
      "text/plain": [
       "   Ensembl Gene ID  Gene Symbol                             Biotype  \\\n",
       "0  ENSG00000223972      DDX11L1  transcribed_unprocessed_pseudogene   \n",
       "1  ENSG00000227232       WASH7P              unprocessed_pseudogene   \n",
       "2  ENSG00000278267    MIR6859-1                               miRNA   \n",
       "3  ENSG00000243485  MIR1302-2HG                              lncRNA   \n",
       "4  ENSG00000284332    MIR1302-2                               miRNA   \n",
       "\n",
       "           Abdomen  Abdomen.1  Abdomen.2  Abdomen.3  Abdomen.4  Gingiva  \\\n",
       "0  ENSG00000223972   0.000000   0.000000        0.0        0.0      0.0   \n",
       "1  ENSG00000227232   0.000000   0.000000        0.0        0.0      0.0   \n",
       "2  ENSG00000278267  15.047694  25.837361        0.0        0.0      0.0   \n",
       "3  ENSG00000243485   0.000000   0.000000        0.0        0.0      0.0   \n",
       "4  ENSG00000284332   0.000000   0.000000        0.0        0.0      0.0   \n",
       "\n",
       "   Gingiva.1  ...   Trachea  Trachea.1  Trachea.2  Trachea.3  Trachea.4  \\\n",
       "0        0.0  ...  0.000000   0.000000     0.0000        0.0        0.0   \n",
       "1        0.0  ...  0.000000   0.000000     0.0000        0.0        0.0   \n",
       "2        0.0  ...  7.967426  13.002281    18.4819        0.0        0.0   \n",
       "3        0.0  ...  0.000000   0.000000     0.0000        0.0        0.0   \n",
       "4        0.0  ...  0.000000   0.000000     0.0000        0.0        0.0   \n",
       "\n",
       "   Vocal_Fold  Vocal_Fold.1  Vocal_Fold.2  Vocal_Fold.3  Vocal_Fold.4  \n",
       "0    0.000000           0.0      0.000000      0.000000      0.000000  \n",
       "1    0.000000           0.0      0.000000      0.029724      0.000000  \n",
       "2    6.838126           0.0     13.263572      0.000000     11.894733  \n",
       "3    0.000000           0.0      0.000000      0.000000      0.000000  \n",
       "4    0.000000           0.0      0.000000      0.000000      0.000000  \n",
       "\n",
       "[5 rows x 37 columns]"
      ]
     },
     "execution_count": 7,
     "metadata": {},
     "output_type": "execute_result"
    }
   ],
   "source": [
    "df.head()"
   ]
  },
  {
   "cell_type": "code",
   "execution_count": 130,
   "metadata": {},
   "outputs": [
    {
     "data": {
      "text/plain": [
       "(60666, 16)"
      ]
     },
     "execution_count": 130,
     "metadata": {},
     "output_type": "execute_result"
    }
   ],
   "source": [
    "df.shape"
   ]
  },
  {
   "cell_type": "code",
   "execution_count": 126,
   "metadata": {},
   "outputs": [],
   "source": [
    "# regex to extract sample names from 'List-Step'-file\n",
    "sample_regex = r'/(SRR.\\d*).sra'\n",
    "sample_info = {}\n",
    "for folder, files in file_names.items():\n",
    "#     print(f'folder: {folder}')\n",
    "    study_name = folder.split(\"\\\\\")[1].split(\"-\")[0]\n",
    "#     print(f'study name: {study_name}')\n",
    "    for file in files:\n",
    "        if 'List-Steps' in file: \n",
    "#             save fiel content to string\n",
    "            with open (f'{folder}{os.sep}{file}', \"r\") as myfile:\n",
    "                file_text=myfile.read().replace('\\n', '')\n",
    "            \n",
    "#             save sample patterns in variable\n",
    "            study_samples = re.findall(sample_regex, file_text)\n",
    "    \n",
    "# #             uncomment for troubleshooting or info\n",
    "#             print(f'\\tFile \"{file} with {len(list(study_samples))} samples: {list(study_samples)}\"\\n')\n",
    "    \n",
    "#             link study name with corresponding samples in dict\n",
    "            sample_info[study_name] = study_samples\n",
    "        \n",
    "#     print('\\n')"
   ]
  },
  {
   "cell_type": "code",
   "execution_count": 127,
   "metadata": {},
   "outputs": [],
   "source": [
    "sample_info;"
   ]
  },
  {
   "cell_type": "code",
   "execution_count": 131,
   "metadata": {},
   "outputs": [
    {
     "data": {
      "text/plain": [
       "59453"
      ]
     },
     "execution_count": 131,
     "metadata": {},
     "output_type": "execute_result"
    }
   ],
   "source": [
    "len(df['Gene Symbol'].unique())"
   ]
  },
  {
   "cell_type": "code",
   "execution_count": 132,
   "metadata": {},
   "outputs": [
    {
     "data": {
      "text/plain": [
       "60666"
      ]
     },
     "execution_count": 132,
     "metadata": {},
     "output_type": "execute_result"
    }
   ],
   "source": [
    "len(df['Ensembl Gene ID'].unique())"
   ]
  },
  {
   "cell_type": "code",
   "execution_count": 134,
   "metadata": {},
   "outputs": [
    {
     "data": {
      "text/plain": [
       "Index(['Ensembl Gene ID', 'Gene Symbol', 'Biotype', 'Ensembl_ID', 'Control',\n",
       "       'Control.1', 'Control.2', 'TGFb', 'TGFb.1', 'TGFb.2', 'Ensembl_ID.1',\n",
       "       'logFC', 'logCPM', 'LR', 'PValue', 'FDR'],\n",
       "      dtype='object')"
      ]
     },
     "execution_count": 134,
     "metadata": {},
     "output_type": "execute_result"
    }
   ],
   "source": [
    "df.columns"
   ]
  },
  {
   "cell_type": "code",
   "execution_count": 143,
   "metadata": {},
   "outputs": [
    {
     "name": "stdout",
     "output_type": "stream",
     "text": [
      "Value for condition Control: 1.10621931840684;\t\t\treplicate:1\n",
      "Value for condition Control.1: 1.41381263386074;\t\t\treplicate:2\n",
      "Value for condition Control.2: 1.46294895279709;\t\t\treplicate:3\n",
      "Value for condition TGFb: 1.09139914210887;\t\t\treplicate:1\n",
      "Value for condition TGFb.1: 1.3523692751285499;\t\t\treplicate:2\n",
      "Value for condition TGFb.2: 1.09174603017377;\t\t\treplicate:3\n",
      "\n",
      "\n",
      "Value for condition Control: 0.138277414800855;\t\t\treplicate:1\n",
      "Value for condition Control.1: 0.10472686176746199;\t\t\treplicate:2\n",
      "Value for condition Control.2: 0.247258977937536;\t\t\treplicate:3\n",
      "Value for condition TGFb: 0.186336438896637;\t\t\treplicate:1\n",
      "Value for condition TGFb.1: 0.143869071822187;\t\t\treplicate:2\n",
      "Value for condition TGFb.2: 0.10397581239750199;\t\t\treplicate:3\n",
      "\n",
      "\n"
     ]
    }
   ],
   "source": [
    "for row in df.index:\n",
    "    if row == 1 or row ==2:\n",
    "        \n",
    "\n",
    "        #get sample-unspecific parameters for study-gene combination\n",
    "        ensembl_id = df.loc[row, 'Ensembl Gene ID']\n",
    "        gene_symbol = df.loc[row, 'Gene Symbol']\n",
    "        biotype = df.loc[row, 'Biotype']\n",
    "        FC = df.loc[row, 'logFC'] if 'logFC' in df.loc[row,:].to_frame().T.columns else np.nan\n",
    "        cpm = df.loc[row, 'logCPM'] if 'logCPM' in df.loc[row,:].to_frame().T.columns else np.nan\n",
    "        LR = df.loc[row, 'LR'] if 'LR' in df.loc[row,:].to_frame().T.columns else np.nan\n",
    "        pval = df.loc[row, 'PValue'] if 'PValue' in df.loc[row,:].to_frame().T.columns else np.nan\n",
    "        pval = df.loc[row, 'PValue'] if 'PValue' in df.loc[row,:].to_frame().T.columns else np.nan\n",
    "        FDR = df.loc[row, 'FDR'] if 'FDR' in df.loc[row,:].to_frame().T.columns else np.nan   \n",
    "\n",
    "        for column in df.loc[row,:].to_frame().T.columns:       \n",
    "\n",
    "#             conditions for columns to exclude - excluded columns are non-condition columns\n",
    "            no_ensembl = ('Ensembl' not in column)\n",
    "            no_gsymbl = (column != 'Gene Symbol')\n",
    "            no_biotype = (column != 'Biotype')\n",
    "            no_FC = (column != 'logFC')\n",
    "            no_cpm = (column != 'logCPM')\n",
    "            no_LR = (column != 'LR')\n",
    "            no_pval = (column != 'PValue')\n",
    "            no_FDR = (column != 'FDR')\n",
    "            if no_biotype and no_cpm and no_ensembl and no_FC and no_FDR and no_gsymbl and no_LR and no_pval:\n",
    "                try:\n",
    "                    condition, replicate = column.split(\".\")\n",
    "                    replicate = int(replicate)+1\n",
    "                except ValueError:\n",
    "                    condition = column \n",
    "                    replicate = 1\n",
    "                col_val = df.loc[row, column]\n",
    "                if isinstance(col_val, float) or  isinstance(col_val, int):\n",
    "                    print(f\"Value for condition {column}: {col_val};\\t\\t\\treplicate:{replicate}\")\n",
    "        print('\\n')"
   ]
  },
  {
   "cell_type": "code",
   "execution_count": 139,
   "metadata": {},
   "outputs": [
    {
     "data": {
      "text/plain": [
       "'TEST'"
      ]
     },
     "execution_count": 139,
     "metadata": {},
     "output_type": "execute_result"
    }
   ],
   "source": [
    "FC"
   ]
  },
  {
   "cell_type": "code",
   "execution_count": 43,
   "metadata": {},
   "outputs": [
    {
     "data": {
      "text/html": [
       "<div>\n",
       "<style scoped>\n",
       "    .dataframe tbody tr th:only-of-type {\n",
       "        vertical-align: middle;\n",
       "    }\n",
       "\n",
       "    .dataframe tbody tr th {\n",
       "        vertical-align: top;\n",
       "    }\n",
       "\n",
       "    .dataframe thead th {\n",
       "        text-align: right;\n",
       "    }\n",
       "</style>\n",
       "<table border=\"1\" class=\"dataframe\">\n",
       "  <thead>\n",
       "    <tr style=\"text-align: right;\">\n",
       "      <th></th>\n",
       "      <th>Ensembl Gene ID</th>\n",
       "      <th>Gene Symbol</th>\n",
       "      <th>Biotype</th>\n",
       "      <th>Abdomen</th>\n",
       "      <th>Abdomen.1</th>\n",
       "      <th>Abdomen.2</th>\n",
       "      <th>Abdomen.3</th>\n",
       "      <th>Abdomen.4</th>\n",
       "      <th>Gingiva</th>\n",
       "      <th>Gingiva.1</th>\n",
       "      <th>...</th>\n",
       "      <th>Trachea</th>\n",
       "      <th>Trachea.1</th>\n",
       "      <th>Trachea.2</th>\n",
       "      <th>Trachea.3</th>\n",
       "      <th>Trachea.4</th>\n",
       "      <th>Vocal_Fold</th>\n",
       "      <th>Vocal_Fold.1</th>\n",
       "      <th>Vocal_Fold.2</th>\n",
       "      <th>Vocal_Fold.3</th>\n",
       "      <th>Vocal_Fold.4</th>\n",
       "    </tr>\n",
       "  </thead>\n",
       "  <tbody>\n",
       "    <tr>\n",
       "      <th>1</th>\n",
       "      <td>ENSG00000227232</td>\n",
       "      <td>WASH7P</td>\n",
       "      <td>unprocessed_pseudogene</td>\n",
       "      <td>ENSG00000227232</td>\n",
       "      <td>0</td>\n",
       "      <td>0</td>\n",
       "      <td>0</td>\n",
       "      <td>0</td>\n",
       "      <td>0</td>\n",
       "      <td>0</td>\n",
       "      <td>...</td>\n",
       "      <td>0</td>\n",
       "      <td>0</td>\n",
       "      <td>0</td>\n",
       "      <td>0</td>\n",
       "      <td>0</td>\n",
       "      <td>0</td>\n",
       "      <td>0</td>\n",
       "      <td>0</td>\n",
       "      <td>0.0356599</td>\n",
       "      <td>0</td>\n",
       "    </tr>\n",
       "  </tbody>\n",
       "</table>\n",
       "<p>1 rows × 37 columns</p>\n",
       "</div>"
      ],
      "text/plain": [
       "   Ensembl Gene ID Gene Symbol                 Biotype          Abdomen  \\\n",
       "1  ENSG00000227232      WASH7P  unprocessed_pseudogene  ENSG00000227232   \n",
       "\n",
       "  Abdomen.1 Abdomen.2 Abdomen.3 Abdomen.4 Gingiva Gingiva.1  ... Trachea  \\\n",
       "1         0         0         0         0       0         0  ...       0   \n",
       "\n",
       "  Trachea.1 Trachea.2 Trachea.3 Trachea.4 Vocal_Fold Vocal_Fold.1  \\\n",
       "1         0         0         0         0          0            0   \n",
       "\n",
       "  Vocal_Fold.2 Vocal_Fold.3 Vocal_Fold.4  \n",
       "1            0    0.0356599            0  \n",
       "\n",
       "[1 rows x 37 columns]"
      ]
     },
     "execution_count": 43,
     "metadata": {},
     "output_type": "execute_result"
    }
   ],
   "source": [
    "df.loc[1].to_frame().T"
   ]
  },
  {
   "cell_type": "code",
   "execution_count": 10,
   "metadata": {},
   "outputs": [
    {
     "name": "stdout",
     "output_type": "stream",
     "text": [
      "\n",
      "\n",
      "GSE123018-Human-CF-TGFb\n",
      "['.DS_Store', 'GSE123018-GRCh38.103-Stranded-CPM.txt', 'GSE123018-GRCh38.103-Stranded-RPKM-Annot.txt', 'GSE123018-GRCh38.103-Stranded-TPM-Annot.txt', 'List-Steps-GSE123018.txt']\n",
      "\n",
      "\n",
      "GSE140523-Human-FB\n",
      "['GSE140523-GRCh38_103-CPM-Annot.txt', 'GSE140523-GRCh38_103-RPKM-Annot.txt', 'GSE140523-GRCh38_103-TPM-Annot.txt', 'List-Steps-GSE140523.txt']\n",
      "\n",
      "\n",
      "GSE149413-Human-FB-CTEPH\n",
      "['GSE149413-Human-FB-CTEPH-GRCh38.103-GRCh38.103-CPM-Ratio.txt', 'GSE149413-Human-FB-CTEPH-GRCh38.103-GRCh38.103-RPKM-Ratio.txt', 'GSE149413-Human-FB-CTEPH-GRCh38.103-GRCh38.103-TPM-Ratio.txt', 'List-Steps-GSE149413.txt']\n",
      "\n",
      "\n",
      "GSE97829-Human-FB-TGFb\n",
      "['GSE97829-Human-FB-TGFb-GRCh38.103-CPM-Ratio.txt', 'GSE97829-Human-FB-TGFb-GRCh38.103-RPKM-Ratio.txt', 'GSE97829-Human-FB-TGFb-GRCh38.103-TPM-Ratio.txt', 'List-Steps-GSE97829.txt']\n",
      "\n",
      "\n"
     ]
    }
   ],
   "source": [
    "for folder in os.listdir('Fibroblast-Fibrosis'):\n",
    "    if folder != '.DS_Store':\n",
    "        print(folder)\n",
    "        for _, _, file in os.walk(f'Fibroblast-Fibrosis{os.sep}{folder}'):\n",
    "            print(f'{file}')\n",
    "    print('\\n')"
   ]
  },
  {
   "cell_type": "code",
   "execution_count": 11,
   "metadata": {},
   "outputs": [
    {
     "name": "stdout",
     "output_type": "stream",
     "text": [
      "GSE97829-Human-FB-TGFb\n",
      "['GSE97829-Human-FB-TGFb-GRCh38.103-CPM-Ratio.txt', 'GSE97829-Human-FB-TGFb-GRCh38.103-RPKM-Ratio.txt', 'GSE97829-Human-FB-TGFb-GRCh38.103-TPM-Ratio.txt', 'List-Steps-GSE97829.txt']\n",
      "\n",
      "\n",
      "GSE97829-Human-FB-TGFb\n",
      "['GSE97829-Human-FB-TGFb-GRCh38.103-CPM-Ratio.txt', 'GSE97829-Human-FB-TGFb-GRCh38.103-RPKM-Ratio.txt', 'GSE97829-Human-FB-TGFb-GRCh38.103-TPM-Ratio.txt', 'List-Steps-GSE97829.txt']\n",
      "\n",
      "\n",
      "GSE97829-Human-FB-TGFb\n",
      "['GSE97829-Human-FB-TGFb-GRCh38.103-CPM-Ratio.txt', 'GSE97829-Human-FB-TGFb-GRCh38.103-RPKM-Ratio.txt', 'GSE97829-Human-FB-TGFb-GRCh38.103-TPM-Ratio.txt', 'List-Steps-GSE97829.txt']\n",
      "\n",
      "\n",
      "GSE97829-Human-FB-TGFb\n",
      "['GSE97829-Human-FB-TGFb-GRCh38.103-CPM-Ratio.txt', 'GSE97829-Human-FB-TGFb-GRCh38.103-RPKM-Ratio.txt', 'GSE97829-Human-FB-TGFb-GRCh38.103-TPM-Ratio.txt', 'List-Steps-GSE97829.txt']\n",
      "\n",
      "\n",
      "GSE97829-Human-FB-TGFb\n",
      "['GSE97829-Human-FB-TGFb-GRCh38.103-CPM-Ratio.txt', 'GSE97829-Human-FB-TGFb-GRCh38.103-RPKM-Ratio.txt', 'GSE97829-Human-FB-TGFb-GRCh38.103-TPM-Ratio.txt', 'List-Steps-GSE97829.txt']\n",
      "\n",
      "\n"
     ]
    }
   ],
   "source": [
    "for _, dirs, files in os.walk('Fibroblast-Fibrosis'):\n",
    "    if folder != '.DS_Store':\n",
    "        print(folder)\n",
    "        for _, _, file in os.walk(f'Fibroblast-Fibrosis{os.sep}{folder}'):\n",
    "            print(f'{file}')\n",
    "    print('\\n')"
   ]
  },
  {
   "cell_type": "code",
   "execution_count": 12,
   "metadata": {},
   "outputs": [
    {
     "name": "stdout",
     "output_type": "stream",
     "text": [
      "{'Fibroblast-Fibrosis\\\\GSE123018-Human-CF-TGFb': ['GSE123018-GRCh38.103-Stranded-CPM.txt', 'GSE123018-GRCh38.103-Stranded-RPKM-Annot.txt', 'GSE123018-GRCh38.103-Stranded-TPM-Annot.txt', 'List-Steps-GSE123018.txt'], 'Fibroblast-Fibrosis\\\\GSE140523-Human-FB': ['GSE140523-GRCh38_103-CPM-Annot.txt', 'GSE140523-GRCh38_103-RPKM-Annot.txt', 'GSE140523-GRCh38_103-TPM-Annot.txt', 'List-Steps-GSE140523.txt'], 'Fibroblast-Fibrosis\\\\GSE149413-Human-FB-CTEPH': ['GSE149413-Human-FB-CTEPH-GRCh38.103-GRCh38.103-CPM-Ratio.txt', 'GSE149413-Human-FB-CTEPH-GRCh38.103-GRCh38.103-RPKM-Ratio.txt', 'GSE149413-Human-FB-CTEPH-GRCh38.103-GRCh38.103-TPM-Ratio.txt', 'List-Steps-GSE149413.txt'], 'Fibroblast-Fibrosis\\\\GSE97829-Human-FB-TGFb': ['GSE97829-Human-FB-TGFb-GRCh38.103-CPM-Ratio.txt', 'GSE97829-Human-FB-TGFb-GRCh38.103-RPKM-Ratio.txt', 'GSE97829-Human-FB-TGFb-GRCh38.103-TPM-Ratio.txt', 'List-Steps-GSE97829.txt']}\n"
     ]
    }
   ],
   "source": [
    "file_names = {}\n",
    "for current_dir, _, files in os.walk('Fibroblast-Fibrosis'):\n",
    "    new_files = [file for file in files if file != '.DS_Store']\n",
    "    if new_files:\n",
    "        file_names[current_dir] = new_files\n",
    "print(file_names)"
   ]
  },
  {
   "cell_type": "code",
   "execution_count": 115,
   "metadata": {},
   "outputs": [
    {
     "name": "stdout",
     "output_type": "stream",
     "text": [
      "folder: Fibroblast-Fibrosis\\GSE123018-Human-CF-TGFb\n",
      "sample name: GSE123018\n",
      "\tFile \"GSE123018-GRCh38.103-Stranded-CPM.txt with columns: ['Ensembl Gene ID', 'Gene Symbol', 'Biotype', 'Ensembl_ID', 'Baseline_1', 'Baseline_2', 'Baseline_3', 'Baseline_4', '45m_1', '45m_2', '45m_3', '45m_4', '2h_1', '2h_2', '2h_3', '2h_4', '6h_1', '6h_2', '6h_3', '6h_4', '24h_1', '24h_2', '24h_3', '24h_4']\"\n",
      "\n",
      "\tFile \"GSE123018-GRCh38.103-Stranded-RPKM-Annot.txt with columns: ['Ensembl Gene ID', 'Gene Symbol', 'Biotype', 'Ensembl_ID', 'Baseline_1', 'Baseline_2', 'Baseline_3', 'Baseline_4', '45m_1', '45m_2', '45m_3', '45m_4', '2h_1', '2h_2', '2h_3', '2h_4', '6h_1', '6h_2', '6h_3', '6h_4', '24h_1', '24h_2', '24h_3', '24h_4']\"\n",
      "\n",
      "\tFile \"GSE123018-GRCh38.103-Stranded-TPM-Annot.txt with columns: ['Ensembl Gene ID', 'Gene Symbol', 'Biotype', 'Ensembl_ID', 'Baseline_1', 'Baseline_2', 'Baseline_3', 'Baseline_4', '45m_1', '45m_2', '45m_3', '45m_4', '2h_1', '2h_2', '2h_3', '2h_4', '6h_1', '6h_2', '6h_3', '6h_4', '24h_1', '24h_2', '24h_3', '24h_4']\"\n",
      "\n",
      "\n",
      "\n",
      "folder: Fibroblast-Fibrosis\\GSE140523-Human-FB\n",
      "sample name: GSE140523\n",
      "\tFile \"GSE140523-GRCh38_103-CPM-Annot.txt with columns: ['Ensembl Gene ID', 'Gene Symbol', 'Biotype', 'Abdomen', 'Abdomen.1', 'Abdomen.2', 'Abdomen.3', 'Abdomen.4', 'Gingiva', 'Gingiva.1', 'Gingiva.2', 'Gingiva.3', 'Gingiva.4', 'Lung', 'Lung.1', 'Lung.2', 'Lung.3', 'Lung.4', 'Palata', 'Palata.1', 'Palata.2', 'Palata.3', 'Scalp', 'Scalp.1', 'Scalp.2', 'Scalp.3', 'Scalp.4', 'Trachea', 'Trachea.1', 'Trachea.2', 'Trachea.3', 'Trachea.4', 'Vocal_Fold', 'Vocal_Fold.1', 'Vocal_Fold.2', 'Vocal_Fold.3', 'Vocal_Fold.4']\"\n",
      "\n",
      "\tFile \"GSE140523-GRCh38_103-RPKM-Annot.txt with columns: ['Ensembl Gene ID', 'Gene Symbol', 'Biotype', 'Abdomen', 'Abdomen.1', 'Abdomen.2', 'Abdomen.3', 'Abdomen.4', 'Gingiva', 'Gingiva.1', 'Gingiva.2', 'Gingiva.3', 'Gingiva.4', 'Lung', 'Lung.1', 'Lung.2', 'Lung.3', 'Lung.4', 'Palata', 'Palata.1', 'Palata.2', 'Palata.3', 'Scalp', 'Scalp.1', 'Scalp.2', 'Scalp.3', 'Scalp.4', 'Trachea', 'Trachea.1', 'Trachea.2', 'Trachea.3', 'Trachea.4', 'Vocal_Fold', 'Vocal_Fold.1', 'Vocal_Fold.2', 'Vocal_Fold.3', 'Vocal_Fold.4']\"\n",
      "\n",
      "\tFile \"GSE140523-GRCh38_103-TPM-Annot.txt with columns: ['Ensembl Gene ID', 'Gene Symbol', 'Biotype', 'Abdomen', 'Abdomen.1', 'Abdomen.2', 'Abdomen.3', 'Abdomen.4', 'Gingiva', 'Gingiva.1', 'Gingiva.2', 'Gingiva.3', 'Gingiva.4', 'Lung', 'Lung.1', 'Lung.2', 'Lung.3', 'Lung.4', 'Palata', 'Palata.1', 'Palata.2', 'Palata.3', 'Scalp', 'Scalp.1', 'Scalp.2', 'Scalp.3', 'Scalp.4', 'Trachea', 'Trachea.1', 'Trachea.2', 'Trachea.3', 'Trachea.4', 'Vocal_Fold', 'Vocal_Fold.1', 'Vocal_Fold.2', 'Vocal_Fold.3', 'Vocal_Fold.4']\"\n",
      "\n",
      "\n",
      "\n",
      "folder: Fibroblast-Fibrosis\\GSE149413-Human-FB-CTEPH\n",
      "sample name: GSE149413\n",
      "\tFile \"GSE149413-Human-FB-CTEPH-GRCh38.103-GRCh38.103-CPM-Ratio.txt with columns: ['Ensembl Gene ID', 'Gene Symbol', 'Biotype', 'Ensembl_ID', 'Adventitia', 'Adventitia.1', 'Adventitia.2', 'Adventitia.3', 'Thrombus', 'Thrombus.1', 'Thrombus.2', 'Thrombus.3', 'Ensembl_ID.1', 'logFC', 'logCPM', 'LR', 'PValue', 'FDR']\"\n",
      "\n",
      "\tFile \"GSE149413-Human-FB-CTEPH-GRCh38.103-GRCh38.103-RPKM-Ratio.txt with columns: ['Ensembl Gene ID', 'Gene Symbol', 'Biotype', 'Ensembl_ID', 'Adventitia', 'Adventitia.1', 'Adventitia.2', 'Adventitia.3', 'Thrombus', 'Thrombus.1', 'Thrombus.2', 'Thrombus.3', 'Ensembl_ID.1', 'logFC', 'logCPM', 'LR', 'PValue', 'FDR']\"\n",
      "\n",
      "\tFile \"GSE149413-Human-FB-CTEPH-GRCh38.103-GRCh38.103-TPM-Ratio.txt with columns: ['Ensembl Gene ID', 'Gene Symbol', 'Biotype', 'Ensembl_ID', 'Adventitia', 'Adventitia.1', 'Adventitia.2', 'Adventitia.3', 'Thrombus', 'Thrombus.1', 'Thrombus.2', 'Thrombus.3', 'Ensembl_ID.1', 'logFC', 'logCPM', 'LR', 'PValue', 'FDR']\"\n",
      "\n",
      "\n",
      "\n",
      "folder: Fibroblast-Fibrosis\\GSE97829-Human-FB-TGFb\n",
      "sample name: GSE97829\n",
      "\tFile \"GSE97829-Human-FB-TGFb-GRCh38.103-CPM-Ratio.txt with columns: ['Ensembl Gene ID', 'Gene Symbol', 'Biotype', 'Ensembl_ID', 'Control', 'Control.1', 'Control.2', 'TGFb', 'TGFb.1', 'TGFb.2', 'Ensembl_ID.1', 'logFC', 'logCPM', 'LR', 'PValue', 'FDR']\"\n",
      "\n",
      "\tFile \"GSE97829-Human-FB-TGFb-GRCh38.103-RPKM-Ratio.txt with columns: ['Ensembl Gene ID', 'Gene Symbol', 'Biotype', 'Ensembl_ID', 'Control', 'Control.1', 'Control.2', 'TGFb', 'TGFb.1', 'TGFb.2', 'Ensembl_ID.1', 'logFC', 'logCPM', 'LR', 'PValue', 'FDR']\"\n",
      "\n",
      "\tFile \"GSE97829-Human-FB-TGFb-GRCh38.103-TPM-Ratio.txt with columns: ['Ensembl Gene ID', 'Gene Symbol', 'Biotype', 'Ensembl_ID', 'Control', 'Control.1', 'Control.2', 'TGFb', 'TGFb.1', 'TGFb.2', 'Ensembl_ID.1', 'logFC', 'logCPM', 'LR', 'PValue', 'FDR']\"\n",
      "\n",
      "\n",
      "\n"
     ]
    }
   ],
   "source": [
    "for folder, files in file_names.items():\n",
    "    print(f'folder: {folder}')\n",
    "    sample_name = folder.split(\"\\\\\")[1].split(\"-\")[0]\n",
    "    print(f'sample name: {sample_name}')\n",
    "    for file in files:\n",
    "        if 'List-Steps' not in file: \n",
    "            df = pd.read_csv(f'{folder}{os.sep}{file}', sep='\\t')\n",
    "            file_cols = df.columns\n",
    "            print(f'\\tFile \"{file} with columns: {list(file_cols)}\"\\n')\n",
    "    print('\\n')"
   ]
  },
  {
   "cell_type": "markdown",
   "metadata": {},
   "source": [
    "__NOTE:__<br>\n",
    "Text file columns contain data that is currently __NOT__ accouted for in created sqlite database!"
   ]
  },
  {
   "cell_type": "code",
   "execution_count": 14,
   "metadata": {},
   "outputs": [
    {
     "data": {
      "text/plain": [
       "['__annotations__',\n",
       " '__call__',\n",
       " '__class__',\n",
       " '__closure__',\n",
       " '__code__',\n",
       " '__defaults__',\n",
       " '__delattr__',\n",
       " '__dict__',\n",
       " '__dir__',\n",
       " '__doc__',\n",
       " '__eq__',\n",
       " '__format__',\n",
       " '__ge__',\n",
       " '__get__',\n",
       " '__getattribute__',\n",
       " '__globals__',\n",
       " '__gt__',\n",
       " '__hash__',\n",
       " '__init__',\n",
       " '__init_subclass__',\n",
       " '__kwdefaults__',\n",
       " '__le__',\n",
       " '__lt__',\n",
       " '__module__',\n",
       " '__name__',\n",
       " '__ne__',\n",
       " '__new__',\n",
       " '__qualname__',\n",
       " '__reduce__',\n",
       " '__reduce_ex__',\n",
       " '__repr__',\n",
       " '__setattr__',\n",
       " '__sizeof__',\n",
       " '__str__',\n",
       " '__subclasshook__']"
      ]
     },
     "execution_count": 14,
     "metadata": {},
     "output_type": "execute_result"
    }
   ],
   "source": [
    "dir(os.walk)"
   ]
  },
  {
   "cell_type": "markdown",
   "metadata": {},
   "source": [
    "### Extract sample names from 'List-Steps'-files using regex"
   ]
  },
  {
   "cell_type": "code",
   "execution_count": 110,
   "metadata": {},
   "outputs": [],
   "source": [
    "test_str = \"\"\"\n",
    "# Download SRA files to ~./sra_files/ and extract FASTQ files\n",
    "# \"fasterq-dump\" version 2.10.5\n",
    "# Ran on 03/07/2021\n",
    "\n",
    "prefetch --option-file SRR_Acc_List.txt\n",
    "\n",
    "fasterq-dump --split-files ./SRR5448889/SRR5448889.sra\n",
    "fasterq-dump --split-files ./SRR5448891/SRR5448891.sra\n",
    "fasterq-dump --split-files ./SRR5448892/SRR5448892.sra\n",
    "fasterq-dump --split-files ./SRR5448893/SRR5448893.sra\n",
    "fasterq-dump --split-files ./SRR5448894/SRR5448894.sra\n",
    "fasterq-dump --split-files ./SRR5448890/SRR5448890.sra\n",
    "\n",
    "\n",
    "# Download the genome assembly and GTF file for human\n",
    "# Use GRCh38.103\n",
    "\n",
    "wget http://ftp.ensembl.org/pub/release-103/fasta/homo_sapiens/dna/Homo_sapiens.GRCh38.dna.primary_assembly.fa.gz\n",
    "wget http://ftp.ensembl.org/pub/release-103/gtf/homo_sapiens/Homo_sapiens.GRCh38.103.gtf.gz\n",
    "\n",
    "# Expand the GZ files.\n",
    "gunzip *.gz\n",
    "\n",
    "\n",
    "# Make index file for STAR aligner.\n",
    "STAR --runMode genomeGenerate --runThreadN 8 --genomeDir ./ --genomeFastaFiles Homo_sapiens.GRCh38.dna.primary_assembly.fa --sjdbGTFfile Homo_sapiens.GRCh38.103.gtf\n",
    "\n",
    "\n",
    "# Run FASTP to perform read filtrations.\n",
    "# version: fastp 0.21.0\n",
    "# Ran on 03/07/2021\n",
    "\n",
    "fastp -i SRR5448889.sra_1.fastq -I SRR5448889.sra_2.fastq -o SRR5448889_1.trimmed.fastq -O SRR5448889_2.trimmed.fastq -h SRR5448889-fastp.html -j SRR5448889_fastp.json\n",
    "fastp -i SRR5448891.sra_1.fastq -I SRR5448891.sra_2.fastq -o SRR5448891_1.trimmed.fastq -O SRR5448891_2.trimmed.fastq -h SRR5448891-fastp.html -j SRR5448891_fastp.json\n",
    "fastp -i SRR5448892.sra_1.fastq -I SRR5448892.sra_2.fastq -o SRR5448892_1.trimmed.fastq -O SRR5448892_2.trimmed.fastq -h SRR5448892-fastp.html -j SRR5448892_fastp.json\n",
    "fastp -i SRR5448893.sra_1.fastq -I SRR5448893.sra_2.fastq -o SRR5448893_1.trimmed.fastq -O SRR5448893_2.trimmed.fastq -h SRR5448893-fastp.html -j SRR5448893_fastp.json\n",
    "fastp -i SRR5448894.sra_1.fastq -I SRR5448894.sra_2.fastq -o SRR5448894_1.trimmed.fastq -O SRR5448894_2.trimmed.fastq -h SRR5448894-fastp.html -j SRR5448894_fastp.json\n",
    "fastp -i SRR5448890.sra_1.fastq -I SRR5448890.sra_2.fastq -o SRR5448890_1.trimmed.fastq -O SRR5448890_2.trimmed.fastq -h SRR5448890-fastp.html -j SRR5448890_fastp.json\n",
    "\n",
    "\n",
    "\n",
    "# Align the sequence reads to the genome using STAR\n",
    "# version STAR 020201\n",
    "# Ran on 03/07/2021\n",
    "\n",
    "STAR --runMode alignReads --runThreadN 8 --genomeDir ../../../references/Human/GRCh38.103/ --outSAMtype BAM SortedByCoordinate --quantMode GeneCounts --outReadsUnmapped Fastx --sjdbGTFfile ../../../references/Human/GRCh38.103/Homo_sapiens.GRCh38.103.gtf --readFilesIn ./sra_files/SRR5448889_1.trimmed.fastq ./sra_files/SRR5448889_2.trimmed.fastq --outFileNamePrefix SRR5448889_\n",
    "STAR --runMode alignReads --runThreadN 8 --genomeDir ../../../references/Human/GRCh38.103/ --outSAMtype BAM SortedByCoordinate --quantMode GeneCounts --outReadsUnmapped Fastx --sjdbGTFfile ../../../references/Human/GRCh38.103/Homo_sapiens.GRCh38.103.gtf --readFilesIn ./sra_files/SRR5448891_1.trimmed.fastq ./sra_files/SRR5448891_2.trimmed.fastq --outFileNamePrefix SRR5448891_\n",
    "STAR --runMode alignReads --runThreadN 8 --genomeDir ../../../references/Human/GRCh38.103/ --outSAMtype BAM SortedByCoordinate --quantMode GeneCounts --outReadsUnmapped Fastx --sjdbGTFfile ../../../references/Human/GRCh38.103/Homo_sapiens.GRCh38.103.gtf --readFilesIn ./sra_files/SRR5448892_1.trimmed.fastq ./sra_files/SRR5448892_2.trimmed.fastq --outFileNamePrefix SRR5448892_\n",
    "STAR --runMode alignReads --runThreadN 8 --genomeDir ../../../references/Human/GRCh38.103/ --outSAMtype BAM SortedByCoordinate --quantMode GeneCounts --outReadsUnmapped Fastx --sjdbGTFfile ../../../references/Human/GRCh38.103/Homo_sapiens.GRCh38.103.gtf --readFilesIn ./sra_files/SRR5448893_1.trimmed.fastq ./sra_files/SRR5448893_2.trimmed.fastq --outFileNamePrefix SRR5448893_\n",
    "STAR --runMode alignReads --runThreadN 8 --genomeDir ../../../references/Human/GRCh38.103/ --outSAMtype BAM SortedByCoordinate --quantMode GeneCounts --outReadsUnmapped Fastx --sjdbGTFfile ../../../references/Human/GRCh38.103/Homo_sapiens.GRCh38.103.gtf --readFilesIn ./sra_files/SRR5448894_1.trimmed.fastq ./sra_files/SRR5448894_2.trimmed.fastq --outFileNamePrefix SRR5448894_\n",
    "STAR --runMode alignReads --runThreadN 8 --genomeDir ../../../references/Human/GRCh38.103/ --outSAMtype BAM SortedByCoordinate --quantMode GeneCounts --outReadsUnmapped Fastx --sjdbGTFfile ../../../references/Human/GRCh38.103/Homo_sapiens.GRCh38.103.gtf --readFilesIn ./sra_files/SRR5448890_1.trimmed.fastq ./sra_files/SRR5448890_2.trimmed.fastq --outFileNamePrefix SRR5448890_\n",
    "\n",
    "\n",
    "# Generate a gene matrix\n",
    "cd GRCh38.103\n",
    "\n",
    "# Stranded\n",
    "paste SRR5448889_ReadsPerGene.out.tab SRR5448890_ReadsPerGene.out.tab SRR5448891_ReadsPerGene.out.tab SRR5448892_ReadsPerGene.out.tab SRR5448893_ReadsPerGene.out.tab SRR5448894_ReadsPerGene.out.tab | cut -f1,4,8,12,16,20,24 | tail -n +5 > tmpfile\n",
    "\n",
    "cat tmpfile | sed \"s/^gene://\" >gene_count_stranded.txt\n",
    "\n",
    "\n",
    "\n",
    "# Run edgeR on R to derive differentially expressed genes\n",
    "library (edgeR)\n",
    "library(GenomicFeatures)\n",
    "\n",
    "x <- read.delim(\"gene_count_stranded.txt\", header=F, row.names=1)\n",
    "colnames(x)<-c(\"Control\",\"Control\",\"Control\",\"TGFb\",\"TGFb\",\"TGFb\")\n",
    "group <- factor(c(1,1,1,2,2,2))\n",
    "y <- DGEList(counts=x,group=group)\n",
    "y <- calcNormFactors(y)\n",
    "\n",
    "# Calculate CPM (counts per million) values\n",
    "d <-cpm(y)\n",
    "\n",
    "# Write out the CPM values for each gene into a table\n",
    "write.table(d, \"GSE97829-Human-FB-TGFb-GRCh38.103-Stranded-CPM.txt\", sep=\"\\t\")\n",
    "\n",
    "# Calculating RPKM\n",
    "# https://research.stowers.org/cws/CompGenomics/Projects/edgeR.html\n",
    "\n",
    "# give the gene lengths\n",
    "gtf_file <- \"/references/Human/GRCh38.103/Homo_sapiens.GRCh38.103.gtf\"\n",
    "txdb <- makeTxDbFromGFF(file=gtf_file)\n",
    "tx_by_gene <- transcriptsBy(txdb, 'gene')\n",
    "geneLengths <- sum(width(reduce(tx_by_gene)))\n",
    "\n",
    "# using our DGE list object from above\n",
    "iv <- match(rownames(x), names(geneLengths))\n",
    "\n",
    "fpkm <- rpkm(x, geneLengths[iv])\n",
    "\n",
    "# Write out the RPKM values for each gene into a table\n",
    "write.table(fpkm, \"GSE97829-Human-FB-TGFb-GRCh38.103-Stranded-RPKM.txt\", sep=\"\\t\")\n",
    "\n",
    "\n",
    "# Calculate TPM from RPKM\n",
    "# http://luisvalesilva.com/datasimple/rna-seq_units.html\n",
    "tpm_from_rpkm <- function(x){\n",
    "    rpkm.sum <-colSums(x)\n",
    "    return(t(t(x) / (1e-06 * rpkm.sum)))\n",
    "}\n",
    "\n",
    "tpm <- tpm_from_rpkm(fpkm)\n",
    "\n",
    "# Write out the TPM values for each gene into a table\n",
    "write.table(tpm, \"GSE97829-Human-FB-TGFb-GRCh38.103-Stranded-TPM.txt\", sep=\"\\t\")\n",
    "\n",
    "\n",
    "# Calculate differentially expressed genes\n",
    "design<-model.matrix(~0+group)\n",
    "y <- estimateGLMCommonDisp(y,design)\n",
    "y <- estimateGLMTrendedDisp(y,design)\n",
    "y <- estimateGLMTagwiseDisp(y,design)\n",
    "fit<-glmFit(y,design)\n",
    "lrt.2vs1 <- glmLRT(fit, contrast=c(-1,1))\n",
    "\n",
    "# To get out FDR\n",
    "out <- topTags(lrt.2vs1, n = \"Inf\")$table\n",
    "\n",
    "# Write out the results\n",
    "write.table(out, \"GSE97829-Human-FB-TGFb-GRCh38.103-Stranded-Ratio.txt\", sep=\"\\t\")\n",
    "\n",
    "q()\n",
    "\"\"\""
   ]
  },
  {
   "cell_type": "code",
   "execution_count": 113,
   "metadata": {},
   "outputs": [
    {
     "name": "stdout",
     "output_type": "stream",
     "text": [
      "/(SRR.\\d*).sra\n"
     ]
    }
   ],
   "source": [
    "sample_pattern = r'/(SRR.\\d*).sra'\n",
    "print(sample_pattern)"
   ]
  },
  {
   "cell_type": "code",
   "execution_count": 114,
   "metadata": {},
   "outputs": [
    {
     "data": {
      "text/plain": [
       "['SRR5448889',\n",
       " 'SRR5448891',\n",
       " 'SRR5448892',\n",
       " 'SRR5448893',\n",
       " 'SRR5448894',\n",
       " 'SRR5448890']"
      ]
     },
     "execution_count": 114,
     "metadata": {},
     "output_type": "execute_result"
    }
   ],
   "source": [
    "re.findall(sample_pattern, test_str)"
   ]
  }
 ],
 "metadata": {
  "kernelspec": {
   "display_name": "Python 3",
   "language": "python",
   "name": "python3"
  },
  "language_info": {
   "codemirror_mode": {
    "name": "ipython",
    "version": 3
   },
   "file_extension": ".py",
   "mimetype": "text/x-python",
   "name": "python",
   "nbconvert_exporter": "python",
   "pygments_lexer": "ipython3",
   "version": "3.8.3"
  }
 },
 "nbformat": 4,
 "nbformat_minor": 4
}
