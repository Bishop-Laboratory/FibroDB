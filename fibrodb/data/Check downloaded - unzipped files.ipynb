{
 "cells": [
  {
   "cell_type": "markdown",
   "metadata": {},
   "source": [
    "Checking columns names in all downloaded files by iterating over all files and folders and downloaded and unzipped data, loading text-files into pandas DataFrame and extracting all columns per file. Check performed in order to ensure integrity of data in regards to created database."
   ]
  },
  {
   "cell_type": "code",
   "execution_count": 2,
   "metadata": {},
   "outputs": [],
   "source": [
    "import pandas as pd\n",
    "import os"
   ]
  },
  {
   "cell_type": "code",
   "execution_count": 3,
   "metadata": {},
   "outputs": [
    {
     "name": "stdout",
     "output_type": "stream",
     "text": [
      "\n",
      "\n",
      "GSE123018-Human-CF-TGFb\n",
      "['.DS_Store', 'GSE123018-GRCh38.103-Stranded-CPM.txt', 'GSE123018-GRCh38.103-Stranded-RPKM-Annot.txt', 'GSE123018-GRCh38.103-Stranded-TPM-Annot.txt', 'List-Steps-GSE123018.txt']\n",
      "\n",
      "\n",
      "GSE140523-Human-FB\n",
      "['GSE140523-GRCh38_103-CPM-Annot.txt', 'GSE140523-GRCh38_103-RPKM-Annot.txt', 'GSE140523-GRCh38_103-TPM-Annot.txt', 'List-Steps-GSE140523.txt']\n",
      "\n",
      "\n",
      "GSE149413-Human-FB-CTEPH\n",
      "['GSE149413-Human-FB-CTEPH-GRCh38.103-GRCh38.103-CPM-Ratio.txt', 'GSE149413-Human-FB-CTEPH-GRCh38.103-GRCh38.103-RPKM-Ratio.txt', 'GSE149413-Human-FB-CTEPH-GRCh38.103-GRCh38.103-TPM-Ratio.txt', 'List-Steps-GSE149413.txt']\n",
      "\n",
      "\n",
      "GSE97829-Human-FB-TGFb\n",
      "['GSE97829-Human-FB-TGFb-GRCh38.103-CPM-Ratio.txt', 'GSE97829-Human-FB-TGFb-GRCh38.103-RPKM-Ratio.txt', 'GSE97829-Human-FB-TGFb-GRCh38.103-TPM-Ratio.txt', 'List-Steps-GSE97829.txt']\n",
      "\n",
      "\n"
     ]
    }
   ],
   "source": [
    "for folder in os.listdir('Fibroblast-Fibrosis'):\n",
    "    if folder != '.DS_Store':\n",
    "        print(folder)\n",
    "        for _, _, file in os.walk(f'Fibroblast-Fibrosis{os.sep}{folder}'):\n",
    "            print(f'{file}')\n",
    "    print('\\n')"
   ]
  },
  {
   "cell_type": "code",
   "execution_count": 4,
   "metadata": {},
   "outputs": [
    {
     "name": "stdout",
     "output_type": "stream",
     "text": [
      "GSE97829-Human-FB-TGFb\n",
      "['GSE97829-Human-FB-TGFb-GRCh38.103-CPM-Ratio.txt', 'GSE97829-Human-FB-TGFb-GRCh38.103-RPKM-Ratio.txt', 'GSE97829-Human-FB-TGFb-GRCh38.103-TPM-Ratio.txt', 'List-Steps-GSE97829.txt']\n",
      "\n",
      "\n",
      "GSE97829-Human-FB-TGFb\n",
      "['GSE97829-Human-FB-TGFb-GRCh38.103-CPM-Ratio.txt', 'GSE97829-Human-FB-TGFb-GRCh38.103-RPKM-Ratio.txt', 'GSE97829-Human-FB-TGFb-GRCh38.103-TPM-Ratio.txt', 'List-Steps-GSE97829.txt']\n",
      "\n",
      "\n",
      "GSE97829-Human-FB-TGFb\n",
      "['GSE97829-Human-FB-TGFb-GRCh38.103-CPM-Ratio.txt', 'GSE97829-Human-FB-TGFb-GRCh38.103-RPKM-Ratio.txt', 'GSE97829-Human-FB-TGFb-GRCh38.103-TPM-Ratio.txt', 'List-Steps-GSE97829.txt']\n",
      "\n",
      "\n",
      "GSE97829-Human-FB-TGFb\n",
      "['GSE97829-Human-FB-TGFb-GRCh38.103-CPM-Ratio.txt', 'GSE97829-Human-FB-TGFb-GRCh38.103-RPKM-Ratio.txt', 'GSE97829-Human-FB-TGFb-GRCh38.103-TPM-Ratio.txt', 'List-Steps-GSE97829.txt']\n",
      "\n",
      "\n",
      "GSE97829-Human-FB-TGFb\n",
      "['GSE97829-Human-FB-TGFb-GRCh38.103-CPM-Ratio.txt', 'GSE97829-Human-FB-TGFb-GRCh38.103-RPKM-Ratio.txt', 'GSE97829-Human-FB-TGFb-GRCh38.103-TPM-Ratio.txt', 'List-Steps-GSE97829.txt']\n",
      "\n",
      "\n"
     ]
    }
   ],
   "source": [
    "for _, dirs, files in os.walk('Fibroblast-Fibrosis'):\n",
    "    if folder != '.DS_Store':\n",
    "        print(folder)\n",
    "        for _, _, file in os.walk(f'Fibroblast-Fibrosis{os.sep}{folder}'):\n",
    "            print(f'{file}')\n",
    "    print('\\n')"
   ]
  },
  {
   "cell_type": "code",
   "execution_count": 5,
   "metadata": {},
   "outputs": [
    {
     "name": "stdout",
     "output_type": "stream",
     "text": [
      "{'Fibroblast-Fibrosis\\\\GSE123018-Human-CF-TGFb': ['GSE123018-GRCh38.103-Stranded-CPM.txt', 'GSE123018-GRCh38.103-Stranded-RPKM-Annot.txt', 'GSE123018-GRCh38.103-Stranded-TPM-Annot.txt', 'List-Steps-GSE123018.txt'], 'Fibroblast-Fibrosis\\\\GSE140523-Human-FB': ['GSE140523-GRCh38_103-CPM-Annot.txt', 'GSE140523-GRCh38_103-RPKM-Annot.txt', 'GSE140523-GRCh38_103-TPM-Annot.txt', 'List-Steps-GSE140523.txt'], 'Fibroblast-Fibrosis\\\\GSE149413-Human-FB-CTEPH': ['GSE149413-Human-FB-CTEPH-GRCh38.103-GRCh38.103-CPM-Ratio.txt', 'GSE149413-Human-FB-CTEPH-GRCh38.103-GRCh38.103-RPKM-Ratio.txt', 'GSE149413-Human-FB-CTEPH-GRCh38.103-GRCh38.103-TPM-Ratio.txt', 'List-Steps-GSE149413.txt'], 'Fibroblast-Fibrosis\\\\GSE97829-Human-FB-TGFb': ['GSE97829-Human-FB-TGFb-GRCh38.103-CPM-Ratio.txt', 'GSE97829-Human-FB-TGFb-GRCh38.103-RPKM-Ratio.txt', 'GSE97829-Human-FB-TGFb-GRCh38.103-TPM-Ratio.txt', 'List-Steps-GSE97829.txt']}\n"
     ]
    }
   ],
   "source": [
    "file_names = {}\n",
    "for current_dir, _, files in os.walk('Fibroblast-Fibrosis'):\n",
    "    new_files = [file for file in files if file != '.DS_Store']\n",
    "    if new_files:\n",
    "        file_names[current_dir] = new_files\n",
    "print(file_names)"
   ]
  },
  {
   "cell_type": "code",
   "execution_count": 12,
   "metadata": {},
   "outputs": [
    {
     "name": "stdout",
     "output_type": "stream",
     "text": [
      "Fibroblast-Fibrosis\\GSE123018-Human-CF-TGFb\n",
      "\tFile \"GSE123018-GRCh38.103-Stranded-CPM.txt with columns: ['Ensembl Gene ID', 'Gene Symbol', 'Biotype', 'Ensembl_ID', 'Baseline_1', 'Baseline_2', 'Baseline_3', 'Baseline_4', '45m_1', '45m_2', '45m_3', '45m_4', '2h_1', '2h_2', '2h_3', '2h_4', '6h_1', '6h_2', '6h_3', '6h_4', '24h_1', '24h_2', '24h_3', '24h_4']\"\n",
      "\n",
      "\tFile \"GSE123018-GRCh38.103-Stranded-RPKM-Annot.txt with columns: ['Ensembl Gene ID', 'Gene Symbol', 'Biotype', 'Ensembl_ID', 'Baseline_1', 'Baseline_2', 'Baseline_3', 'Baseline_4', '45m_1', '45m_2', '45m_3', '45m_4', '2h_1', '2h_2', '2h_3', '2h_4', '6h_1', '6h_2', '6h_3', '6h_4', '24h_1', '24h_2', '24h_3', '24h_4']\"\n",
      "\n",
      "\tFile \"GSE123018-GRCh38.103-Stranded-TPM-Annot.txt with columns: ['Ensembl Gene ID', 'Gene Symbol', 'Biotype', 'Ensembl_ID', 'Baseline_1', 'Baseline_2', 'Baseline_3', 'Baseline_4', '45m_1', '45m_2', '45m_3', '45m_4', '2h_1', '2h_2', '2h_3', '2h_4', '6h_1', '6h_2', '6h_3', '6h_4', '24h_1', '24h_2', '24h_3', '24h_4']\"\n",
      "\n",
      "\n",
      "\n",
      "Fibroblast-Fibrosis\\GSE140523-Human-FB\n",
      "\tFile \"GSE140523-GRCh38_103-CPM-Annot.txt with columns: ['Ensembl Gene ID', 'Gene Symbol', 'Biotype', 'Abdomen', 'Abdomen.1', 'Abdomen.2', 'Abdomen.3', 'Abdomen.4', 'Gingiva', 'Gingiva.1', 'Gingiva.2', 'Gingiva.3', 'Gingiva.4', 'Lung', 'Lung.1', 'Lung.2', 'Lung.3', 'Lung.4', 'Palata', 'Palata.1', 'Palata.2', 'Palata.3', 'Scalp', 'Scalp.1', 'Scalp.2', 'Scalp.3', 'Scalp.4', 'Trachea', 'Trachea.1', 'Trachea.2', 'Trachea.3', 'Trachea.4', 'Vocal_Fold', 'Vocal_Fold.1', 'Vocal_Fold.2', 'Vocal_Fold.3', 'Vocal_Fold.4']\"\n",
      "\n",
      "\tFile \"GSE140523-GRCh38_103-RPKM-Annot.txt with columns: ['Ensembl Gene ID', 'Gene Symbol', 'Biotype', 'Abdomen', 'Abdomen.1', 'Abdomen.2', 'Abdomen.3', 'Abdomen.4', 'Gingiva', 'Gingiva.1', 'Gingiva.2', 'Gingiva.3', 'Gingiva.4', 'Lung', 'Lung.1', 'Lung.2', 'Lung.3', 'Lung.4', 'Palata', 'Palata.1', 'Palata.2', 'Palata.3', 'Scalp', 'Scalp.1', 'Scalp.2', 'Scalp.3', 'Scalp.4', 'Trachea', 'Trachea.1', 'Trachea.2', 'Trachea.3', 'Trachea.4', 'Vocal_Fold', 'Vocal_Fold.1', 'Vocal_Fold.2', 'Vocal_Fold.3', 'Vocal_Fold.4']\"\n",
      "\n",
      "\tFile \"GSE140523-GRCh38_103-TPM-Annot.txt with columns: ['Ensembl Gene ID', 'Gene Symbol', 'Biotype', 'Abdomen', 'Abdomen.1', 'Abdomen.2', 'Abdomen.3', 'Abdomen.4', 'Gingiva', 'Gingiva.1', 'Gingiva.2', 'Gingiva.3', 'Gingiva.4', 'Lung', 'Lung.1', 'Lung.2', 'Lung.3', 'Lung.4', 'Palata', 'Palata.1', 'Palata.2', 'Palata.3', 'Scalp', 'Scalp.1', 'Scalp.2', 'Scalp.3', 'Scalp.4', 'Trachea', 'Trachea.1', 'Trachea.2', 'Trachea.3', 'Trachea.4', 'Vocal_Fold', 'Vocal_Fold.1', 'Vocal_Fold.2', 'Vocal_Fold.3', 'Vocal_Fold.4']\"\n",
      "\n",
      "\n",
      "\n",
      "Fibroblast-Fibrosis\\GSE149413-Human-FB-CTEPH\n",
      "\tFile \"GSE149413-Human-FB-CTEPH-GRCh38.103-GRCh38.103-CPM-Ratio.txt with columns: ['Ensembl Gene ID', 'Gene Symbol', 'Biotype', 'Ensembl_ID', 'Adventitia', 'Adventitia.1', 'Adventitia.2', 'Adventitia.3', 'Thrombus', 'Thrombus.1', 'Thrombus.2', 'Thrombus.3', 'Ensembl_ID.1', 'logFC', 'logCPM', 'LR', 'PValue', 'FDR']\"\n",
      "\n",
      "\tFile \"GSE149413-Human-FB-CTEPH-GRCh38.103-GRCh38.103-RPKM-Ratio.txt with columns: ['Ensembl Gene ID', 'Gene Symbol', 'Biotype', 'Ensembl_ID', 'Adventitia', 'Adventitia.1', 'Adventitia.2', 'Adventitia.3', 'Thrombus', 'Thrombus.1', 'Thrombus.2', 'Thrombus.3', 'Ensembl_ID.1', 'logFC', 'logCPM', 'LR', 'PValue', 'FDR']\"\n",
      "\n",
      "\tFile \"GSE149413-Human-FB-CTEPH-GRCh38.103-GRCh38.103-TPM-Ratio.txt with columns: ['Ensembl Gene ID', 'Gene Symbol', 'Biotype', 'Ensembl_ID', 'Adventitia', 'Adventitia.1', 'Adventitia.2', 'Adventitia.3', 'Thrombus', 'Thrombus.1', 'Thrombus.2', 'Thrombus.3', 'Ensembl_ID.1', 'logFC', 'logCPM', 'LR', 'PValue', 'FDR']\"\n",
      "\n",
      "\n",
      "\n",
      "Fibroblast-Fibrosis\\GSE97829-Human-FB-TGFb\n",
      "\tFile \"GSE97829-Human-FB-TGFb-GRCh38.103-CPM-Ratio.txt with columns: ['Ensembl Gene ID', 'Gene Symbol', 'Biotype', 'Ensembl_ID', 'Control', 'Control.1', 'Control.2', 'TGFb', 'TGFb.1', 'TGFb.2', 'Ensembl_ID.1', 'logFC', 'logCPM', 'LR', 'PValue', 'FDR']\"\n",
      "\n",
      "\tFile \"GSE97829-Human-FB-TGFb-GRCh38.103-RPKM-Ratio.txt with columns: ['Ensembl Gene ID', 'Gene Symbol', 'Biotype', 'Ensembl_ID', 'Control', 'Control.1', 'Control.2', 'TGFb', 'TGFb.1', 'TGFb.2', 'Ensembl_ID.1', 'logFC', 'logCPM', 'LR', 'PValue', 'FDR']\"\n",
      "\n",
      "\tFile \"GSE97829-Human-FB-TGFb-GRCh38.103-TPM-Ratio.txt with columns: ['Ensembl Gene ID', 'Gene Symbol', 'Biotype', 'Ensembl_ID', 'Control', 'Control.1', 'Control.2', 'TGFb', 'TGFb.1', 'TGFb.2', 'Ensembl_ID.1', 'logFC', 'logCPM', 'LR', 'PValue', 'FDR']\"\n",
      "\n",
      "\n",
      "\n"
     ]
    }
   ],
   "source": [
    "for folder, files in file_names.items():\n",
    "    print(f'{folder}')\n",
    "    for file in files:\n",
    "        if 'List-Steps' not in file: \n",
    "            df = pd.read_csv(f'{folder}{os.sep}{file}', sep='\\t')\n",
    "            file_cols = df.columns\n",
    "            print(f'\\tFile \"{file} with columns: {list(file_cols)}\"\\n')\n",
    "    print('\\n')"
   ]
  },
  {
   "cell_type": "markdown",
   "metadata": {},
   "source": [
    "__NOTE:__<br>\n",
    "Text file columns contain data that is currently __NOT__ accouted for in created sqlite database!"
   ]
  },
  {
   "cell_type": "code",
   "execution_count": 14,
   "metadata": {},
   "outputs": [
    {
     "data": {
      "text/plain": [
       "['__annotations__',\n",
       " '__call__',\n",
       " '__class__',\n",
       " '__closure__',\n",
       " '__code__',\n",
       " '__defaults__',\n",
       " '__delattr__',\n",
       " '__dict__',\n",
       " '__dir__',\n",
       " '__doc__',\n",
       " '__eq__',\n",
       " '__format__',\n",
       " '__ge__',\n",
       " '__get__',\n",
       " '__getattribute__',\n",
       " '__globals__',\n",
       " '__gt__',\n",
       " '__hash__',\n",
       " '__init__',\n",
       " '__init_subclass__',\n",
       " '__kwdefaults__',\n",
       " '__le__',\n",
       " '__lt__',\n",
       " '__module__',\n",
       " '__name__',\n",
       " '__ne__',\n",
       " '__new__',\n",
       " '__qualname__',\n",
       " '__reduce__',\n",
       " '__reduce_ex__',\n",
       " '__repr__',\n",
       " '__setattr__',\n",
       " '__sizeof__',\n",
       " '__str__',\n",
       " '__subclasshook__']"
      ]
     },
     "execution_count": 14,
     "metadata": {},
     "output_type": "execute_result"
    }
   ],
   "source": [
    "dir(os.walk)"
   ]
  }
 ],
 "metadata": {
  "kernelspec": {
   "display_name": "Python 3",
   "language": "python",
   "name": "python3"
  },
  "language_info": {
   "codemirror_mode": {
    "name": "ipython",
    "version": 3
   },
   "file_extension": ".py",
   "mimetype": "text/x-python",
   "name": "python",
   "nbconvert_exporter": "python",
   "pygments_lexer": "ipython3",
   "version": "3.8.0"
  }
 },
 "nbformat": 4,
 "nbformat_minor": 4
}
